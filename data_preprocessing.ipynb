{
 "cells": [
  {
   "cell_type": "code",
   "id": "initial_id",
   "metadata": {
    "collapsed": true,
    "ExecuteTime": {
     "end_time": "2024-12-04T01:09:18.105833Z",
     "start_time": "2024-12-04T01:09:18.091173Z"
    }
   },
   "source": [
    "import os\n",
    "\n",
    "curr_dir = os.getcwd()\n",
    "os.makedirs(os.path.join(curr_dir, 'LIMU_BILIBILI'), exist_ok=True)\n",
    "data_file = os.path.join(curr_dir, 'LIMU_BILIBILI', 'housing.csv')\n",
    "#在 Python 中，当你使用 open() 函数以写入模式（'w'）打开一个文件时，如果指定的文件不存在，则会自动创建一个新文件。\n",
    "with open(data_file, 'w') as f:\n",
    "    f.write('num_rooms,alley,price\\n')\n",
    "    f.write('NA,NA,15000\\n')\n",
    "    f.write('2,NA,14000\\n')\n",
    "    f.write('1,NA,13000\\n')\n",
    "    f.write('NA,alley,12000\\n')\n",
    "    f.write('NA,gang_hood,12000\\n')\n",
    "    f.write('NA,chill_hood,12000\\n')\n",
    "\n"
   ],
   "outputs": [],
   "execution_count": 1
  },
  {
   "metadata": {
    "ExecuteTime": {
     "end_time": "2024-12-04T01:09:25.470819Z",
     "start_time": "2024-12-04T01:09:20.849225Z"
    }
   },
   "cell_type": "code",
   "source": [
    "# 读取csv一般用Pandas的库：\n",
    "import pandas as pd\n",
    "data = pd.read_csv(data_file)\n",
    "data"
   ],
   "id": "c475a006d83c17d7",
   "outputs": [
    {
     "data": {
      "text/plain": [
       "   num_rooms       alley  price\n",
       "0        NaN         NaN  15000\n",
       "1        2.0         NaN  14000\n",
       "2        1.0         NaN  13000\n",
       "3        NaN       alley  12000\n",
       "4        NaN   gang_hood  12000\n",
       "5        NaN  chill_hood  12000"
      ],
      "text/html": [
       "<div>\n",
       "<style scoped>\n",
       "    .dataframe tbody tr th:only-of-type {\n",
       "        vertical-align: middle;\n",
       "    }\n",
       "\n",
       "    .dataframe tbody tr th {\n",
       "        vertical-align: top;\n",
       "    }\n",
       "\n",
       "    .dataframe thead th {\n",
       "        text-align: right;\n",
       "    }\n",
       "</style>\n",
       "<table border=\"1\" class=\"dataframe\">\n",
       "  <thead>\n",
       "    <tr style=\"text-align: right;\">\n",
       "      <th></th>\n",
       "      <th>num_rooms</th>\n",
       "      <th>alley</th>\n",
       "      <th>price</th>\n",
       "    </tr>\n",
       "  </thead>\n",
       "  <tbody>\n",
       "    <tr>\n",
       "      <th>0</th>\n",
       "      <td>NaN</td>\n",
       "      <td>NaN</td>\n",
       "      <td>15000</td>\n",
       "    </tr>\n",
       "    <tr>\n",
       "      <th>1</th>\n",
       "      <td>2.0</td>\n",
       "      <td>NaN</td>\n",
       "      <td>14000</td>\n",
       "    </tr>\n",
       "    <tr>\n",
       "      <th>2</th>\n",
       "      <td>1.0</td>\n",
       "      <td>NaN</td>\n",
       "      <td>13000</td>\n",
       "    </tr>\n",
       "    <tr>\n",
       "      <th>3</th>\n",
       "      <td>NaN</td>\n",
       "      <td>alley</td>\n",
       "      <td>12000</td>\n",
       "    </tr>\n",
       "    <tr>\n",
       "      <th>4</th>\n",
       "      <td>NaN</td>\n",
       "      <td>gang_hood</td>\n",
       "      <td>12000</td>\n",
       "    </tr>\n",
       "    <tr>\n",
       "      <th>5</th>\n",
       "      <td>NaN</td>\n",
       "      <td>chill_hood</td>\n",
       "      <td>12000</td>\n",
       "    </tr>\n",
       "  </tbody>\n",
       "</table>\n",
       "</div>"
      ]
     },
     "execution_count": 2,
     "metadata": {},
     "output_type": "execute_result"
    }
   ],
   "execution_count": 2
  },
  {
   "metadata": {
    "ExecuteTime": {
     "end_time": "2024-12-04T01:09:52.607235Z",
     "start_time": "2024-12-04T01:09:52.147344Z"
    }
   },
   "cell_type": "code",
   "source": [
    "import torch\n",
    "print(torch.__version__)"
   ],
   "id": "b0bc8aca4bc75fe4",
   "outputs": [
    {
     "ename": "ModuleNotFoundError",
     "evalue": "No module named 'torch'",
     "output_type": "error",
     "traceback": [
      "\u001B[1;31m---------------------------------------------------------------------------\u001B[0m",
      "\u001B[1;31mModuleNotFoundError\u001B[0m                       Traceback (most recent call last)",
      "Cell \u001B[1;32mIn[3], line 1\u001B[0m\n\u001B[1;32m----> 1\u001B[0m \u001B[38;5;28;01mimport\u001B[39;00m \u001B[38;5;21;01mtorch\u001B[39;00m\n\u001B[0;32m      2\u001B[0m \u001B[38;5;28mprint\u001B[39m(torch\u001B[38;5;241m.\u001B[39m__version__)\n",
      "\u001B[1;31mModuleNotFoundError\u001B[0m: No module named 'torch'"
     ]
    }
   ],
   "execution_count": 3
  },
  {
   "metadata": {
    "ExecuteTime": {
     "end_time": "2024-11-24T08:20:08.968131Z",
     "start_time": "2024-11-24T08:20:08.953983Z"
    }
   },
   "cell_type": "code",
   "source": [
    "# index location的意思，表示取部分数据。\n",
    "inputs, outputs = data.iloc[:,0:2], data.iloc[:,2]\n",
    "inputs, outputs\n",
    "\n",
    "# 处理缺失数据\n",
    "# 把缺失数据填入平均值,但是注意这里的取mean操作，只能针对数字型的变量\n",
    "inputs.iloc[:,0] = inputs.iloc[:,0].fillna(inputs.iloc[:,0].mean())\n",
    "inputs"
   ],
   "id": "ffe2209022581c0f",
   "outputs": [
    {
     "data": {
      "text/plain": [
       "   num_rooms       alley\n",
       "0        1.5         NaN\n",
       "1        2.0         NaN\n",
       "2        1.0         NaN\n",
       "3        1.5       alley\n",
       "4        1.5   gang_hood\n",
       "5        1.5  chill_hood"
      ],
      "text/html": [
       "<div>\n",
       "<style scoped>\n",
       "    .dataframe tbody tr th:only-of-type {\n",
       "        vertical-align: middle;\n",
       "    }\n",
       "\n",
       "    .dataframe tbody tr th {\n",
       "        vertical-align: top;\n",
       "    }\n",
       "\n",
       "    .dataframe thead th {\n",
       "        text-align: right;\n",
       "    }\n",
       "</style>\n",
       "<table border=\"1\" class=\"dataframe\">\n",
       "  <thead>\n",
       "    <tr style=\"text-align: right;\">\n",
       "      <th></th>\n",
       "      <th>num_rooms</th>\n",
       "      <th>alley</th>\n",
       "    </tr>\n",
       "  </thead>\n",
       "  <tbody>\n",
       "    <tr>\n",
       "      <th>0</th>\n",
       "      <td>1.5</td>\n",
       "      <td>NaN</td>\n",
       "    </tr>\n",
       "    <tr>\n",
       "      <th>1</th>\n",
       "      <td>2.0</td>\n",
       "      <td>NaN</td>\n",
       "    </tr>\n",
       "    <tr>\n",
       "      <th>2</th>\n",
       "      <td>1.0</td>\n",
       "      <td>NaN</td>\n",
       "    </tr>\n",
       "    <tr>\n",
       "      <th>3</th>\n",
       "      <td>1.5</td>\n",
       "      <td>alley</td>\n",
       "    </tr>\n",
       "    <tr>\n",
       "      <th>4</th>\n",
       "      <td>1.5</td>\n",
       "      <td>gang_hood</td>\n",
       "    </tr>\n",
       "    <tr>\n",
       "      <th>5</th>\n",
       "      <td>1.5</td>\n",
       "      <td>chill_hood</td>\n",
       "    </tr>\n",
       "  </tbody>\n",
       "</table>\n",
       "</div>"
      ]
     },
     "execution_count": 20,
     "metadata": {},
     "output_type": "execute_result"
    }
   ],
   "execution_count": 20
  },
  {
   "metadata": {
    "ExecuteTime": {
     "end_time": "2024-11-24T08:33:08.589725Z",
     "start_time": "2024-11-24T08:33:08.567107Z"
    }
   },
   "cell_type": "code",
   "source": [
    "# 对于字符类的数据，处理办法可以如下：\n",
    "# pd.get_dummies(inputs)会把所有的分类值的取值做成一个新的列，如果属于这个分类的行回事True\n",
    "# 另外一个参数dummy_na=True表示NaN会被单独分到一个新的列中\n",
    "# 加上astype(int)把数据类型转换成了int类型\n",
    "inputs = pd.get_dummies(inputs, dummy_na=True).astype(int)\n",
    "print(inputs)"
   ],
   "id": "bb40e7602f37708f",
   "outputs": [
    {
     "name": "stdout",
     "output_type": "stream",
     "text": [
      "   num_rooms  alley_alley  alley_chill_hood  alley_gang_hood  alley_nan\n",
      "0          1            0                 0                0          1\n",
      "1          2            0                 0                0          1\n",
      "2          1            0                 0                0          1\n",
      "3          1            1                 0                0          0\n",
      "4          1            0                 0                1          0\n",
      "5          1            0                 1                0          0\n"
     ]
    }
   ],
   "execution_count": 30
  },
  {
   "metadata": {
    "ExecuteTime": {
     "end_time": "2024-11-24T08:33:16.126343Z",
     "start_time": "2024-11-24T08:33:16.115257Z"
    }
   },
   "cell_type": "code",
   "source": [
    "import torch\n",
    "# 数据类型转换：\n",
    "# 默认的浮点数是64位，但是在深度学习中一般会用32，为了提高效率\n",
    "inputs = inputs.astype({'num_rooms': 'float'})\n",
    "print(inputs.values.dtype)\n",
    "\n",
    "# Pandas数据向torch转换\n",
    "X, y = torch.tensor(inputs.values), torch.tensor(outputs.values)\n",
    "X,y"
   ],
   "id": "cd547ca148377d6a",
   "outputs": [
    {
     "name": "stdout",
     "output_type": "stream",
     "text": [
      "float64\n"
     ]
    },
    {
     "data": {
      "text/plain": [
       "(tensor([[1., 0., 0., 0., 1.],\n",
       "         [2., 0., 0., 0., 1.],\n",
       "         [1., 0., 0., 0., 1.],\n",
       "         [1., 1., 0., 0., 0.],\n",
       "         [1., 0., 0., 1., 0.],\n",
       "         [1., 0., 1., 0., 0.]], dtype=torch.float64),\n",
       " tensor([15000, 14000, 13000, 12000, 12000, 12000]))"
      ]
     },
     "execution_count": 31,
     "metadata": {},
     "output_type": "execute_result"
    }
   ],
   "execution_count": 31
  },
  {
   "metadata": {},
   "cell_type": "code",
   "outputs": [],
   "execution_count": null,
   "source": "",
   "id": "9790dd6ca917a469"
  }
 ],
 "metadata": {
  "kernelspec": {
   "display_name": "Python 3",
   "language": "python",
   "name": "python3"
  },
  "language_info": {
   "codemirror_mode": {
    "name": "ipython",
    "version": 2
   },
   "file_extension": ".py",
   "mimetype": "text/x-python",
   "name": "python",
   "nbconvert_exporter": "python",
   "pygments_lexer": "ipython2",
   "version": "2.7.6"
  }
 },
 "nbformat": 4,
 "nbformat_minor": 5
}
