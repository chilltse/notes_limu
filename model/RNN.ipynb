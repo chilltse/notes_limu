{
 "cells": [
  {
   "cell_type": "code",
   "id": "initial_id",
   "metadata": {
    "collapsed": true,
    "ExecuteTime": {
     "end_time": "2025-08-02T00:40:44.692042Z",
     "start_time": "2025-08-02T00:40:44.640239Z"
    }
   },
   "source": [
    "%matplotlib inline\n",
    "import math\n",
    "import torch\n",
    "from torch import nn\n",
    "from torch.nn import functional as F\n",
    "from ml_model_utils import *\n",
    "\n",
    "batch_size, num_steps = 32, 35\n",
    "train_iter, vocab = load_data_time_machine(batch_size, num_steps)"
   ],
   "outputs": [],
   "execution_count": 9
  },
  {
   "metadata": {
    "ExecuteTime": {
     "end_time": "2025-08-02T00:40:44.698806Z",
     "start_time": "2025-08-02T00:40:44.695482Z"
    }
   },
   "cell_type": "code",
   "source": [
    "def get_params(vocab_size, num_hiddens, device):\n",
    "    num_inputs = num_outputs = vocab_size\n",
    "\n",
    "    def normal(shape):\n",
    "        return torch.randn(size=shape, device=device) * 0.01\n",
    "\n",
    "    # 隐藏层参数\n",
    "    W_xh = normal((num_inputs, num_hiddens))\n",
    "    W_hh = normal((num_hiddens, num_hiddens))\n",
    "    b_h = torch.zeros(num_hiddens, device=device)\n",
    "    # 输出层参数\n",
    "    W_hq = normal((num_hiddens, num_outputs))\n",
    "    b_q = torch.zeros(num_outputs, device=device)\n",
    "    # 附加梯度\n",
    "    params = [W_xh, W_hh, b_h, W_hq, b_q]\n",
    "    for param in params:\n",
    "        param.requires_grad_(True)\n",
    "    return params"
   ],
   "id": "4e0fbf6a08fb6806",
   "outputs": [],
   "execution_count": 10
  },
  {
   "metadata": {
    "ExecuteTime": {
     "end_time": "2025-08-02T00:40:44.709786Z",
     "start_time": "2025-08-02T00:40:44.704759Z"
    }
   },
   "cell_type": "code",
   "source": [
    "# 为了定义循环神经网络模型， 我们首先需要一个init_rnn_state函数在初始化时返回隐状态。 这个函数的返回是一个张量，张量全用0填充， 形状为（批量大小，隐藏单元数）。 在后面的章节中我们将会遇到隐状态包含多个变量的情况， 而使用元组可以更容易地处理些。\n",
    "def init_rnn_state(batch_size, num_hiddens, device):\n",
    "    return (torch.zeros((batch_size, num_hiddens), device=device), )"
   ],
   "id": "349b565ff46b6a22",
   "outputs": [],
   "execution_count": 11
  },
  {
   "metadata": {
    "ExecuteTime": {
     "end_time": "2025-08-02T00:40:44.717968Z",
     "start_time": "2025-08-02T00:40:44.715472Z"
    }
   },
   "cell_type": "code",
   "source": [
    "# 下面的rnn函数定义了如何在一个时间步内计算隐状态和输出。 循环神经网络模型通过inputs最外层的维度实现循环， 以便逐时间步更新小批量数据的隐状态H。 此外，这里使用tanh函数作为激活函数。 如 4.1节所述， 当元素在实数上满足均匀分布时，tanh函数的平均值为0。\n",
    "def rnn(inputs, state, params):\n",
    "    # inputs的形状：(时间步数量，批量大小，词表大小)\n",
    "    W_xh, W_hh, b_h, W_hq, b_q = params\n",
    "    H, = state\n",
    "    outputs = []\n",
    "    # X的形状：(批量大小，词表大小)\n",
    "    for X in inputs:\n",
    "        H = torch.tanh(torch.mm(X, W_xh) + torch.mm(H, W_hh) + b_h)\n",
    "        Y = torch.mm(H, W_hq) + b_q\n",
    "        outputs.append(Y)\n",
    "    return torch.cat(outputs, dim=0), (H,)"
   ],
   "id": "71e987072e83c3af",
   "outputs": [],
   "execution_count": 12
  },
  {
   "metadata": {
    "ExecuteTime": {
     "end_time": "2025-08-02T00:40:44.728045Z",
     "start_time": "2025-08-02T00:40:44.723045Z"
    }
   },
   "cell_type": "code",
   "source": [
    "# __init__: vocab_size: 词表大小，用于 one-hot 编码。\n",
    "#     num_hiddens: 隐藏层的维度（隐藏状态的大小）。\n",
    "#     device: 使用的设备（如 cpu() 或 cuda()）。\n",
    "#     get_params: 一个函数，返回模型所需的参数（权重、偏置等）。\n",
    "#     init_state: 一个函数，用于初始化 RNN 的隐藏状态。\n",
    "#     forward_fn: 前向传播函数，定义 RNN 的核心计算逻辑。\n",
    "\n",
    "# __call__\n",
    "#     定义对象可以被当作函数调用：output, new_state = model(X, state)\n",
    "#     X: 输入张量，形状为 (batch_size, num_steps)，表示一个 batch 的多个时间步。\n",
    "#     state: 当前的隐藏状态。\n",
    "\n",
    "\n",
    "class RNNModelScratch:\n",
    "    \"\"\"从零开始实现的循环神经网络模型\"\"\"\n",
    "    def __init__(self, vocab_size, num_hiddens, device,\n",
    "                 get_params, init_state, forward_fn):\n",
    "        self.vocab_size, self.num_hiddens = vocab_size, num_hiddens\n",
    "        self.params = get_params(vocab_size, num_hiddens, device)\n",
    "        self.init_state, self.forward_fn = init_state, forward_fn\n",
    "\n",
    "    def __call__(self, X, state):\n",
    "        # X.T: 转置，将输入形状从 (batch_size, num_steps) 变为 (num_steps, batch_size)，因为我们按时间步处理。\n",
    "        # F.one_hot(X.T, self.vocab_size): 对每个时间步和样本中的 token 进行 one-hot 编码，结果形状为 (num_steps, batch_size, vocab_size)。\n",
    "        X = F.one_hot(X.T, self.vocab_size).type(torch.float32)\n",
    "        return self.forward_fn(X, state, self.params)\n",
    "\n",
    "    def begin_state(self, batch_size, device):\n",
    "        return self.init_state(batch_size, self.num_hiddens, device)"
   ],
   "id": "f9fe71e1d0421723",
   "outputs": [],
   "execution_count": 13
  },
  {
   "metadata": {
    "ExecuteTime": {
     "end_time": "2025-08-02T00:45:01.176930Z",
     "start_time": "2025-08-02T00:45:01.168412Z"
    }
   },
   "cell_type": "code",
   "source": [
    "X = torch.arange(20).reshape((4, 5))\n",
    "F.one_hot(X.T, 28).shape\n",
    "\n",
    "num_hiddens = 512\n",
    "net = RNNModelScratch(len(vocab), num_hiddens, try_gpu(), get_params,\n",
    "                      init_rnn_state, rnn)\n",
    "state = net.begin_state(X.shape[0], try_gpu())\n",
    "Y, new_state = net(X.to(try_gpu()), state)\n",
    "Y.shape, len(new_state), new_state[0].shape"
   ],
   "id": "4ebbb581272aafe5",
   "outputs": [
    {
     "data": {
      "text/plain": [
       "(torch.Size([20, 28]), 1, torch.Size([4, 512]))"
      ]
     },
     "execution_count": 15,
     "metadata": {},
     "output_type": "execute_result"
    }
   ],
   "execution_count": 15
  }
 ],
 "metadata": {
  "kernelspec": {
   "display_name": "Python 3",
   "language": "python",
   "name": "python3"
  },
  "language_info": {
   "codemirror_mode": {
    "name": "ipython",
    "version": 2
   },
   "file_extension": ".py",
   "mimetype": "text/x-python",
   "name": "python",
   "nbconvert_exporter": "python",
   "pygments_lexer": "ipython2",
   "version": "2.7.6"
  }
 },
 "nbformat": 4,
 "nbformat_minor": 5
}
