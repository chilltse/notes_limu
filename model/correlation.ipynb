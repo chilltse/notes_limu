{
 "cells": [
  {
   "cell_type": "code",
   "id": "initial_id",
   "metadata": {
    "collapsed": true,
    "ExecuteTime": {
     "end_time": "2025-04-18T09:56:56.037406Z",
     "start_time": "2025-04-18T09:56:54.451791Z"
    }
   },
   "source": [
    "import torch\n",
    "import matplotlib.pyplot as plt\n",
    "\n",
    "def corr2d(X, K):\n",
    "    \"\"\"计算二维互相关运算。\"\"\"\n",
    "    h, w = K.shape\n",
    "    Y = torch.zeros((X.shape[0] - h + 1, X.shape[1] - w + 1))\n",
    "    for i in range(Y.shape[0]):\n",
    "        for j in range(Y.shape[1]):\n",
    "            # 对应区域相乘后求和\n",
    "            Y[i, j] = (X[i:i + h, j:j + w] * K).sum()\n",
    "    return Y\n",
    "\n",
    "# 示例输入 X：3x3 图像\n",
    "X = torch.tensor([[0, 1, 2],\n",
    "                  [3, 4, 5],\n",
    "                  [6, 7, 8]], dtype=torch.float32)\n",
    "\n",
    "# 示例卷积核 K：2x2\n",
    "K = torch.tensor([[0, 1],\n",
    "                  [2, 3]], dtype=torch.float32)\n",
    "\n",
    "# 调用 corr2d 计算结果\n",
    "Y = corr2d(X, K)\n",
    "\n",
    "# 打印输入和输出\n",
    "print(\"输入 X:\")\n",
    "print(X)\n",
    "print(\"\\n卷积核 K:\")\n",
    "print(K)\n",
    "print(\"\\n输出 Y = corr2d(X, K):\")\n",
    "print(Y)\n"
   ],
   "outputs": [
    {
     "name": "stdout",
     "output_type": "stream",
     "text": [
      "输入 X:\n",
      "tensor([[0., 1., 2.],\n",
      "        [3., 4., 5.],\n",
      "        [6., 7., 8.]])\n",
      "\n",
      "卷积核 K:\n",
      "tensor([[0., 1.],\n",
      "        [2., 3.]])\n",
      "\n",
      "输出 Y = corr2d(X, K):\n",
      "tensor([[19., 25.],\n",
      "        [37., 43.]])\n"
     ]
    }
   ],
   "execution_count": 1
  },
  {
   "metadata": {},
   "cell_type": "code",
   "outputs": [],
   "execution_count": null,
   "source": [
    "from torch import nn\n",
    "# 自定义卷积层\n",
    "class Conv2D(nn.Module):\n",
    "    def __init__(self, kernel_size):\n",
    "        super().__init__()\n",
    "        self.weight = nn.Parameter(torch.rand(kernel_size))  # 随机初始化\n",
    "        self.bias = nn.Parameter(torch.zeros(1))             # 初始化偏置为 0\n",
    "\n",
    "    def forward(self, x):\n",
    "        return corr2d(x, self.weight) + self.bias\n",
    "\n"
   ],
   "id": "e643215867c5b58"
  },
  {
   "metadata": {
    "ExecuteTime": {
     "end_time": "2025-04-18T10:11:01.716677Z",
     "start_time": "2025-04-18T10:11:01.709862Z"
    }
   },
   "cell_type": "code",
   "source": [
    "# 边缘检测\n",
    "X = torch.ones((6, 8))\n",
    "X[:, 2:6] = 0\n",
    "\n",
    "K = torch.tensor([[-1, 1],])\n",
    "Y = corr2d(X, K)\n",
    "Y"
   ],
   "id": "80f3a7bd3fb78f1c",
   "outputs": [
    {
     "data": {
      "text/plain": [
       "tensor([[ 0., -1.,  0.,  0.,  0.,  1.,  0.],\n",
       "        [ 0., -1.,  0.,  0.,  0.,  1.,  0.],\n",
       "        [ 0., -1.,  0.,  0.,  0.,  1.,  0.],\n",
       "        [ 0., -1.,  0.,  0.,  0.,  1.,  0.],\n",
       "        [ 0., -1.,  0.,  0.,  0.,  1.,  0.],\n",
       "        [ 0., -1.,  0.,  0.,  0.,  1.,  0.]])"
      ]
     },
     "execution_count": 10,
     "metadata": {},
     "output_type": "execute_result"
    }
   ],
   "execution_count": 10
  },
  {
   "metadata": {
    "ExecuteTime": {
     "end_time": "2025-04-18T10:13:34.834297Z",
     "start_time": "2025-04-18T10:13:34.787824Z"
    }
   },
   "cell_type": "code",
   "source": [
    "# 学习卷积核\n",
    "import torch\n",
    "from torch import nn\n",
    "\n",
    "# 创建训练输入和目标输出\n",
    "X = torch.ones((6, 8))\n",
    "X[:, 2:6] = 0\n",
    "Y = torch.tensor([[1., 1., 0., 0., 0., 0., 1.]] * 6)\n",
    "\n",
    "# 定义卷积层（输入通道=1，输出通道=1，卷积核大小=(1, 2)，无偏置）\n",
    "conv2d = nn.Conv2d(1, 1, kernel_size=(1, 2), bias=False)\n",
    "\n",
    "# 调整输入输出形状以匹配 Conv2d 的要求 (N, C, H, W)\n",
    "# 第一个1是通道数，第二个1是批量大小数\n",
    "X = X.reshape((1, 1, 6, 8))  # batch=1, channel=1, height=6, width=8\n",
    "Y = Y.reshape((1, 1, 6, 7))  # 输出宽度是输入减kernel+1 = 7\n",
    "\n",
    "# 训练循环\n",
    "for i in range(100):\n",
    "    Y_hat = conv2d(X)               # 前向传播\n",
    "    l = (Y_hat - Y) ** 2            # 均方误差 loss\n",
    "    conv2d.zero_grad()              # 梯度清零\n",
    "    l.sum().backward()              # 反向传播\n",
    "    # 手动SGD更新参数\n",
    "    conv2d.weight.data[:] -= 3e-2 * conv2d.weight.grad\n",
    "\n",
    "    if (i + 1) % 2 == 0:\n",
    "        print(f'batch {i+1}, loss {l.sum():.3f}')\n",
    "\n",
    "print(conv2d.weight.data.reshape(1,2))\n"
   ],
   "id": "7857ba8ada6b627e",
   "outputs": [
    {
     "name": "stdout",
     "output_type": "stream",
     "text": [
      "batch 2, loss 8.382\n",
      "batch 4, loss 3.425\n",
      "batch 6, loss 1.402\n",
      "batch 8, loss 0.574\n",
      "batch 10, loss 0.235\n",
      "batch 12, loss 0.096\n",
      "batch 14, loss 0.039\n",
      "batch 16, loss 0.016\n",
      "batch 18, loss 0.007\n",
      "batch 20, loss 0.003\n",
      "batch 22, loss 0.001\n",
      "batch 24, loss 0.000\n",
      "batch 26, loss 0.000\n",
      "batch 28, loss 0.000\n",
      "batch 30, loss 0.000\n",
      "batch 32, loss 0.000\n",
      "batch 34, loss 0.000\n",
      "batch 36, loss 0.000\n",
      "batch 38, loss 0.000\n",
      "batch 40, loss 0.000\n",
      "batch 42, loss 0.000\n",
      "batch 44, loss 0.000\n",
      "batch 46, loss 0.000\n",
      "batch 48, loss 0.000\n",
      "batch 50, loss 0.000\n",
      "batch 52, loss 0.000\n",
      "batch 54, loss 0.000\n",
      "batch 56, loss 0.000\n",
      "batch 58, loss 0.000\n",
      "batch 60, loss 0.000\n",
      "batch 62, loss 0.000\n",
      "batch 64, loss 0.000\n",
      "batch 66, loss 0.000\n",
      "batch 68, loss 0.000\n",
      "batch 70, loss 0.000\n",
      "batch 72, loss 0.000\n",
      "batch 74, loss 0.000\n",
      "batch 76, loss 0.000\n",
      "batch 78, loss 0.000\n",
      "batch 80, loss 0.000\n",
      "batch 82, loss 0.000\n",
      "batch 84, loss 0.000\n",
      "batch 86, loss 0.000\n",
      "batch 88, loss 0.000\n",
      "batch 90, loss 0.000\n",
      "batch 92, loss 0.000\n",
      "batch 94, loss 0.000\n",
      "batch 96, loss 0.000\n",
      "batch 98, loss 0.000\n",
      "batch 100, loss 0.000\n",
      "tensor([[ 1.0000e+00, -1.0467e-07]])\n"
     ]
    }
   ],
   "execution_count": 11
  },
  {
   "metadata": {
    "ExecuteTime": {
     "end_time": "2025-04-19T05:27:14.091636Z",
     "start_time": "2025-04-19T05:27:14.081991Z"
    }
   },
   "cell_type": "code",
   "source": [
    "import torch\n",
    "from torch import nn\n",
    "\n",
    "# 定义一个包装函数，将二维输入X扩展成4维 (batch_size, channels, height, width)\n",
    "def comp_conv2d(conv2d, X):\n",
    "    X = X.reshape((1, 1) + X.shape)   # => shape (1, 1, H, W)\n",
    "    Y = conv2d(X)                     # 应用卷积\n",
    "    return Y.reshape(Y.shape[2:])     # 返回 H, W 部分\n",
    "\n",
    "# 定义一个Conv2D层：输入通道1，输出通道1，kernel大小3x3，padding=1\n",
    "conv2d = nn.Conv2d(in_channels=1, out_channels=1, kernel_size=3, padding=1)\n",
    "\n",
    "# 构造一个 8x8 的输入张量\n",
    "X = torch.rand(size=(8, 8))\n",
    "\n",
    "# 调用并打印输出形状\n",
    "output = comp_conv2d(conv2d, X)\n",
    "print(\"输出形状:\", output.shape)  # 应该是 torch.Size([8, 8])\n"
   ],
   "id": "eaf71cf4290094b7",
   "outputs": [
    {
     "name": "stdout",
     "output_type": "stream",
     "text": [
      "输出形状: torch.Size([8, 8])\n"
     ]
    }
   ],
   "execution_count": 19
  },
  {
   "metadata": {
    "ExecuteTime": {
     "end_time": "2025-04-19T05:27:11.259679Z",
     "start_time": "2025-04-19T05:27:11.253006Z"
    }
   },
   "cell_type": "code",
   "source": [
    "conv2d = nn.Conv2d(in_channels=1, out_channels=1, kernel_size=(5,3), padding=(2,1))\n",
    "output = comp_conv2d(conv2d, X)\n",
    "print(\"输出形状:\", output.shape)"
   ],
   "id": "f28b3eea3a89a15d",
   "outputs": [
    {
     "name": "stdout",
     "output_type": "stream",
     "text": [
      "输出形状: torch.Size([8, 8])\n"
     ]
    }
   ],
   "execution_count": 18
  },
  {
   "metadata": {},
   "cell_type": "code",
   "outputs": [],
   "execution_count": null,
   "source": [
    "conv2d = nn.Conv2d(1, 1, kernel_size=3, padding=1, stride=2)\n",
    "comp_conv2d(conv2d, X).shape\n",
    "# 输出: torch.Size([4, 4])； (n-k+p+s)/s\n"
   ],
   "id": "b1159d079666b619"
  },
  {
   "metadata": {
    "ExecuteTime": {
     "end_time": "2025-04-19T05:33:04.572804Z",
     "start_time": "2025-04-19T05:33:04.561582Z"
    }
   },
   "cell_type": "code",
   "source": [
    "conv2d = nn.Conv2d(1, 1, kernel_size=(3, 5), padding=(0, 1), stride=(3, 4))\n",
    "comp_conv2d(conv2d, X).shape\n",
    "# 输出: torch.Size([2, 2])\n"
   ],
   "id": "143a461a815b3359",
   "outputs": [
    {
     "data": {
      "text/plain": [
       "torch.Size([2, 2])"
      ]
     },
     "execution_count": 20,
     "metadata": {},
     "output_type": "execute_result"
    }
   ],
   "execution_count": 20
  },
  {
   "metadata": {},
   "cell_type": "markdown",
   "source": "## 超参数--通道数",
   "id": "365feb05474b3a55"
  },
  {
   "metadata": {
    "ExecuteTime": {
     "end_time": "2025-04-19T06:00:29.667314Z",
     "start_time": "2025-04-19T06:00:29.662203Z"
    }
   },
   "cell_type": "code",
   "source": [
    "import torch\n",
    "\n",
    "def corr2d_multi_in(X, K):\n",
    "    return sum(corr2d(x, k) for x, k in zip(X, K))\n"
   ],
   "id": "ff123abd663de18f",
   "outputs": [],
   "execution_count": 22
  },
  {
   "metadata": {
    "ExecuteTime": {
     "end_time": "2025-04-19T06:09:20.404165Z",
     "start_time": "2025-04-19T06:09:20.399650Z"
    }
   },
   "cell_type": "code",
   "source": [
    "X = torch.tensor([\n",
    "    [[0., 1., 2.], [1., 2., 3.]],\n",
    "    [[3., 4., 5.], [4., 5., 6.]],\n",
    "    [[6., 7., 8.], [7., 8., 9.]]\n",
    "])\n",
    "\n",
    "K = torch.tensor([\n",
    "    [[0., 1.], [2., 3.]],\n",
    "    [[1., 2.], [3., 4.]],\n",
    "    [[2., 3.], [4., 5.]]\n",
    "])\n",
    "\n",
    "# 等价于\n",
    "# corr2d(X[0], K[0]) +\n",
    "# corr2d(X[1], K[1]) +\n",
    "# corr2d(X[2], K[2])\n",
    "corr2d_multi_in(X,K).shape"
   ],
   "id": "25ed4b4153dfffd",
   "outputs": [
    {
     "data": {
      "text/plain": [
       "torch.Size([1, 2])"
      ]
     },
     "execution_count": 27,
     "metadata": {},
     "output_type": "execute_result"
    }
   ],
   "execution_count": 27
  },
  {
   "metadata": {
    "ExecuteTime": {
     "end_time": "2025-04-19T06:09:22.808021Z",
     "start_time": "2025-04-19T06:09:22.802481Z"
    }
   },
   "cell_type": "code",
   "source": [
    "# 多输出通道，核是四维的\n",
    "def corr2d_multi_in_out(X, K):\n",
    "    # 在第0维给它堆叠起来\n",
    "    return torch.stack([corr2d_multi_in(X, k) for k in K], 0)\n",
    "\n",
    "K4= torch.stack((K, K + 1, K + 2), 0)\n",
    "\n",
    "corr2d_multi_in_out(X, K4)\n"
   ],
   "id": "9d88d92c46397b7a",
   "outputs": [
    {
     "data": {
      "text/plain": [
       "tensor([[[153., 183.]],\n",
       "\n",
       "        [[201., 243.]],\n",
       "\n",
       "        [[249., 303.]]])"
      ]
     },
     "execution_count": 28,
     "metadata": {},
     "output_type": "execute_result"
    }
   ],
   "execution_count": 28
  },
  {
   "metadata": {},
   "cell_type": "markdown",
   "source": "## 1*1的全连接卷积核",
   "id": "89adb6696182d462"
  },
  {
   "metadata": {
    "ExecuteTime": {
     "end_time": "2025-04-19T06:15:44.600375Z",
     "start_time": "2025-04-19T06:15:44.592962Z"
    }
   },
   "cell_type": "code",
   "source": [
    "# 只作用域通道之间的融合，不关注空间信息\n",
    "def corr2d_multi_in_out_1x1(X, K):\n",
    "    c_i, h, w = X.shape       # 输入通道数，高，宽\n",
    "    c_o = K.shape[0]          # 输出通道数\n",
    "\n",
    "    # 把每个通道展平成一行向量，共 c_i 行，长度为 h * w\n",
    "    X = X.reshape((c_i, h * w))\n",
    "\n",
    "    # K 的形状是 (输出通道数, 输入通道数)，不变\n",
    "    K = K.reshape((c_o, c_i))\n",
    "\n",
    "    # 矩阵乘法，相当于多个通道按位置相乘再加和\n",
    "    Y = torch.matmul(K, X)            # 结果是 (c_o, h * w)\n",
    "\n",
    "    return Y.reshape((c_o, h, w))     # reshape 回原图形状\n",
    "\n",
    "\n",
    "X = torch.normal(0, 1, (3, 3, 3))    # 输入有 3 个通道，每通道 3×3\n",
    "K = torch.normal(0, 1, (2, 3, 1, 1)) # 1×1 卷积核：输出通道为2，输入通道为3\n",
    "\n",
    "Y1 = corr2d_multi_in_out_1x1(X, K)\n",
    "Y2 = corr2d_multi_in_out(X, K)\n",
    "\n",
    "# 验证两个实现是一样的（误差很小）\n",
    "assert float(torch.abs(Y1 - Y2).sum()) < 1e-6\n",
    "\n"
   ],
   "id": "2540da895931f717",
   "outputs": [],
   "execution_count": 30
  },
  {
   "metadata": {},
   "cell_type": "markdown",
   "source": "## 池化层",
   "id": "f86f999dd65569b8"
  },
  {
   "metadata": {
    "ExecuteTime": {
     "end_time": "2025-04-19T06:37:36.762851Z",
     "start_time": "2025-04-19T06:37:36.758297Z"
    }
   },
   "cell_type": "code",
   "source": [
    "import torch\n",
    "from torch import nn\n",
    "def pool2d(X, pool_size, mode='max'):\n",
    "    # 将池化窗口的高度和宽度分别赋值\n",
    "    p_h, p_w = pool_size\n",
    "\n",
    "    # 计算输出张量 Y 的尺寸（无 padding、stride=1）\n",
    "    # 输出高 = 输入高 - 窗口高 + 1，输出宽 = 输入宽 - 窗口宽 + 1\n",
    "    Y = torch.zeros((X.shape[0] - p_h + 1, X.shape[1] - p_w + 1))\n",
    "\n",
    "    # 遍历输出张量的每一个元素位置\n",
    "    for i in range(Y.shape[0]):          # 遍历高度方向\n",
    "        for j in range(Y.shape[1]):      # 遍历宽度方向\n",
    "\n",
    "            # 从输入 X 中截取当前窗口区域\n",
    "            window = X[i:i + p_h, j:j + p_w]\n",
    "\n",
    "            # 如果模式是最大池化\n",
    "            if mode == 'max':\n",
    "                Y[i, j] = window.max()\n",
    "\n",
    "            # 如果模式是平均池化\n",
    "            elif mode == 'avg':\n",
    "                Y[i, j] = window.mean()\n",
    "\n",
    "    # 返回池化结果\n",
    "    return Y\n",
    "\n"
   ],
   "id": "684a85a2e9b488f",
   "outputs": [],
   "execution_count": 32
  },
  {
   "metadata": {
    "ExecuteTime": {
     "end_time": "2025-04-19T06:37:38.838377Z",
     "start_time": "2025-04-19T06:37:38.833241Z"
    }
   },
   "cell_type": "code",
   "source": [
    "x = torch.tensor([\n",
    "    [0.0, 1.0, 2.0],\n",
    "    [3.0, 4.0, 5.0],\n",
    "    [6.0, 7.0, 8.0]\n",
    "])\n",
    "pool2d(x, (2, 2))\n"
   ],
   "id": "a3dd7c41cccc3e68",
   "outputs": [
    {
     "data": {
      "text/plain": [
       "tensor([[4., 5.],\n",
       "        [7., 8.]])"
      ]
     },
     "execution_count": 33,
     "metadata": {},
     "output_type": "execute_result"
    }
   ],
   "execution_count": 33
  },
  {
   "metadata": {
    "ExecuteTime": {
     "end_time": "2025-04-19T06:41:10.001345Z",
     "start_time": "2025-04-19T06:41:09.991815Z"
    }
   },
   "cell_type": "code",
   "source": [
    "# 构造输入张量\n",
    "# batch_size = 1, channels = 1\n",
    "# 批量大小，一次喂给神经网络多少张图像\n",
    "# 通道数，例如 1 是灰度图，3 是 RGB 彩图\n",
    "x = torch.arange(16, dtype=torch.float32).reshape((1, 1, 4, 4))\n",
    "\n",
    "\n",
    "# stride: the stride of the window. Default value is :attr:kernel_size\n",
    "# stride：窗口的步幅。默认值为 kernel_size（即窗口大小本身）。\n",
    "# padding: Implicit negative infinity padding to be added on both sides\n",
    "# padding：在输入的两侧隐式添加负无穷作为填充值（通常用于最大池化操作）。\n",
    "pool2d = nn.MaxPool2d(3)\n",
    "pool2d(x)\n"
   ],
   "id": "1fe7ed5c3b5880d",
   "outputs": [
    {
     "data": {
      "text/plain": [
       "tensor([[[[10.]]]])"
      ]
     },
     "execution_count": 35,
     "metadata": {},
     "output_type": "execute_result"
    }
   ],
   "execution_count": 35
  },
  {
   "metadata": {
    "ExecuteTime": {
     "end_time": "2025-04-19T06:56:32.821755Z",
     "start_time": "2025-04-19T06:56:32.817482Z"
    }
   },
   "cell_type": "code",
   "source": [
    "pool2d = nn.MaxPool2d(3, padding=1, stride=2)\n",
    "pool2d(x)\n"
   ],
   "id": "382653d70ca2fd25",
   "outputs": [
    {
     "data": {
      "text/plain": [
       "tensor([[[[ 5.,  7.],\n",
       "          [13., 15.]]]])"
      ]
     },
     "execution_count": 37,
     "metadata": {},
     "output_type": "execute_result"
    }
   ],
   "execution_count": 37
  },
  {
   "metadata": {
    "ExecuteTime": {
     "end_time": "2025-04-19T06:56:34.474835Z",
     "start_time": "2025-04-19T06:56:34.469795Z"
    }
   },
   "cell_type": "code",
   "source": [
    "pool2d = nn.MaxPool2d((2, 3), padding=(1, 1), stride=(2, 3))\n",
    "pool2d(x)"
   ],
   "id": "d9ec524a6317e3b7",
   "outputs": [
    {
     "data": {
      "text/plain": [
       "tensor([[[[ 1.,  3.],\n",
       "          [ 9., 11.],\n",
       "          [13., 15.]]]])"
      ]
     },
     "execution_count": 38,
     "metadata": {},
     "output_type": "execute_result"
    }
   ],
   "execution_count": 38
  },
  {
   "metadata": {
    "ExecuteTime": {
     "end_time": "2025-04-19T10:34:29.855602Z",
     "start_time": "2025-04-19T10:34:29.839747Z"
    }
   },
   "cell_type": "code",
   "source": [
    "import torch\n",
    "import torch.nn as nn\n",
    "\n",
    "# 构造一个输入张量 X\n",
    "X = torch.arange(0., 16.).reshape(1, 1, 4, 4)  # 形状为 (1, 1, 4, 4)\n",
    "X = torch.cat((X, X + 1), dim=1)  # 拼接另一个通道 (X+1)，得到形状 (1, 2, 4, 4)\n",
    "print(X)\n",
    "\n",
    "# 定义 2D 最大池化层，kernel_size=3, padding=1, stride=2\n",
    "pool2d = nn.MaxPool2d(kernel_size=3, padding=1, stride=2)\n",
    "output = pool2d(X)\n",
    "print(output)\n"
   ],
   "id": "aa4b870302b7bf9f",
   "outputs": [
    {
     "name": "stdout",
     "output_type": "stream",
     "text": [
      "tensor([[[[ 0.,  1.,  2.,  3.],\n",
      "          [ 4.,  5.,  6.,  7.],\n",
      "          [ 8.,  9., 10., 11.],\n",
      "          [12., 13., 14., 15.]],\n",
      "\n",
      "         [[ 1.,  2.,  3.,  4.],\n",
      "          [ 5.,  6.,  7.,  8.],\n",
      "          [ 9., 10., 11., 12.],\n",
      "          [13., 14., 15., 16.]]]])\n",
      "tensor([[[[ 5.,  7.],\n",
      "          [13., 15.]],\n",
      "\n",
      "         [[ 6.,  8.],\n",
      "          [14., 16.]]]])\n"
     ]
    }
   ],
   "execution_count": 39
  }
 ],
 "metadata": {
  "kernelspec": {
   "display_name": "Python 3",
   "language": "python",
   "name": "python3"
  },
  "language_info": {
   "codemirror_mode": {
    "name": "ipython",
    "version": 2
   },
   "file_extension": ".py",
   "mimetype": "text/x-python",
   "name": "python",
   "nbconvert_exporter": "python",
   "pygments_lexer": "ipython2",
   "version": "2.7.6"
  }
 },
 "nbformat": 4,
 "nbformat_minor": 5
}
