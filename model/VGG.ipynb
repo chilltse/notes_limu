{
 "cells": [
  {
   "cell_type": "code",
   "id": "initial_id",
   "metadata": {
    "collapsed": true,
    "ExecuteTime": {
     "end_time": "2025-04-19T14:16:07.209423Z",
     "start_time": "2025-04-19T14:16:05.822119Z"
    }
   },
   "source": [
    "import torch\n",
    "from torch import nn\n",
    "\n",
    "def vgg_block(num_convs, in_channels, out_channels):\n",
    "    \"\"\"\n",
    "    构建一个 VGG 卷积块：包含若干卷积层 + 1 个最大池化层\n",
    "\n",
    "    参数：\n",
    "    num_convs: 卷积层数量，例如 2 表示 2 × Conv3\n",
    "    in_channels: 输入通道数\n",
    "    out_channels: 卷积层输出通道数（所有该 block 内一致）\n",
    "\n",
    "    返回：\n",
    "    一个 nn.Sequential 包含 num_convs 个卷积层 + ReLU + 1 个 MaxPool2d\n",
    "    \"\"\"\n",
    "    layers = []\n",
    "\n",
    "    # 添加 num_convs 个 Conv3 + ReLU\n",
    "    for _ in range(num_convs):\n",
    "        layers.append(nn.Conv2d(\n",
    "            in_channels, out_channels, kernel_size=3, padding=1  # padding=1 保证尺寸不变\n",
    "        ))\n",
    "        layers.append(nn.ReLU())\n",
    "        in_channels = out_channels  # 下一层的输入通道是当前层输出通道\n",
    "\n",
    "    # 添加 1 个 2×2 的最大池化层，stride=2 表示下采样一半\n",
    "    layers.append(nn.MaxPool2d(kernel_size=2, stride=2))\n",
    "\n",
    "    return nn.Sequential(*layers)  # 返回层列表的组合结构\n"
   ],
   "outputs": [],
   "execution_count": 1
  },
  {
   "metadata": {
    "ExecuteTime": {
     "end_time": "2025-04-19T14:16:07.216368Z",
     "start_time": "2025-04-19T14:16:07.212744Z"
    }
   },
   "cell_type": "code",
   "source": [
    "import torch\n",
    "from torch import nn\n",
    "\n",
    "# 定义卷积结构（类似于 VGG-11）：每个元组是 (卷积次数, 输出通道数)\n",
    "# 经典设计，每一次图片的高宽减半（池化层），通道数翻倍。\n",
    "conv_arch = ((1, 64), (1, 128), (2, 256), (2, 512), (2, 512))\n",
    "\n",
    "# 构建 VGG 网络函数\n",
    "def vgg(conv_arch):\n",
    "    conv_blks = []      # 存储每一个 vgg_block\n",
    "    in_channels = 1     # 假设输入是灰度图（通道数为1）\n",
    "\n",
    "    for (num_convs, out_channels) in conv_arch:\n",
    "        # 添加一个卷积块（包含 num_convs 个 Conv3、ReLU 和一个池化层）\n",
    "        conv_blks.append(vgg_block(num_convs, in_channels, out_channels))\n",
    "        in_channels = out_channels  # 更新下一块的输入通道数\n",
    "\n",
    "    return nn.Sequential(\n",
    "        *conv_blks,         # 解包所有卷积块，加入网络\n",
    "        nn.Flatten(),       # 将卷积输出展平为向量\n",
    "\n",
    "        # 全连接层1：输入是 512 × 7 × 7（假设输入图像尺寸是 224×224）\n",
    "        nn.Linear(out_channels * 7 * 7, 4096), nn.ReLU(), nn.Dropout(0.5),\n",
    "\n",
    "        # 全连接层2\n",
    "        nn.Linear(4096, 4096), nn.ReLU(), nn.Dropout(0.5),\n",
    "\n",
    "        # 输出层（比如用于10分类）\n",
    "        nn.Linear(4096, 10)\n",
    "    )\n"
   ],
   "id": "a20df53a4c258ab2",
   "outputs": [],
   "execution_count": 2
  },
  {
   "metadata": {
    "ExecuteTime": {
     "end_time": "2025-04-19T14:18:14.848948Z",
     "start_time": "2025-04-19T14:18:14.352297Z"
    }
   },
   "cell_type": "code",
   "source": [
    "X = torch.rand(size=(3, 1, 224, 224), dtype=torch.float32)  # 模拟一个 batch size 为 1 的 28x28 灰度图像\n",
    "net = vgg(conv_arch)\n",
    "for layer in net:\n",
    "    X = layer(X)  # 逐层将 X 传入网络\n",
    "    print(layer.__class__.__name__, 'output shape:\\t', X.shape)"
   ],
   "id": "e8852eb4cac18d5",
   "outputs": [
    {
     "name": "stdout",
     "output_type": "stream",
     "text": [
      "Sequential output shape:\t torch.Size([3, 64, 112, 112])\n",
      "Sequential output shape:\t torch.Size([3, 128, 56, 56])\n",
      "Sequential output shape:\t torch.Size([3, 256, 28, 28])\n",
      "Sequential output shape:\t torch.Size([3, 512, 14, 14])\n",
      "Sequential output shape:\t torch.Size([3, 512, 7, 7])\n",
      "Flatten output shape:\t torch.Size([3, 25088])\n",
      "Linear output shape:\t torch.Size([3, 4096])\n",
      "ReLU output shape:\t torch.Size([3, 4096])\n",
      "Dropout output shape:\t torch.Size([3, 4096])\n",
      "Linear output shape:\t torch.Size([3, 4096])\n",
      "ReLU output shape:\t torch.Size([3, 4096])\n",
      "Dropout output shape:\t torch.Size([3, 4096])\n",
      "Linear output shape:\t torch.Size([3, 10])\n"
     ]
    }
   ],
   "execution_count": 3
  },
  {
   "metadata": {
    "ExecuteTime": {
     "end_time": "2025-04-19T14:22:14.262726Z",
     "start_time": "2025-04-19T14:22:14.148216Z"
    }
   },
   "cell_type": "code",
   "source": [
    "# 丐版的vgg11, 把每一个的输出通道数除以 ratio\n",
    "ratio = 4\n",
    "small_conv_arch = [(pair[0], pair[1] // ratio) for pair in conv_arch]\n",
    "net = vgg(small_conv_arch)\n"
   ],
   "id": "2cc16554d97d101a",
   "outputs": [],
   "execution_count": 4
  },
  {
   "metadata": {
    "ExecuteTime": {
     "end_time": "2025-04-19T14:31:39.421555Z",
     "start_time": "2025-04-19T14:24:24.521187Z"
    }
   },
   "cell_type": "code",
   "source": [
    "from ml_model_utils import *\n",
    "lr, num_epochs, batch_size = 0.05, 10, 128\n",
    "train_iter, test_iter = load_data_fashion_mnist(batch_size, resize=224)\n",
    "train_ch6(net, train_iter, test_iter, num_epochs, lr, try_gpu())\n"
   ],
   "id": "7330e6bd29aff8aa",
   "outputs": [
    {
     "name": "stdout",
     "output_type": "stream",
     "text": [
      "training on cuda:0\n",
      "loss 0.170, train acc 0.937, test acc 0.923\n",
      "2019.4 examples/sec on cuda:0\n"
     ]
    }
   ],
   "execution_count": 5
  }
 ],
 "metadata": {
  "kernelspec": {
   "display_name": "Python 3",
   "language": "python",
   "name": "python3"
  },
  "language_info": {
   "codemirror_mode": {
    "name": "ipython",
    "version": 2
   },
   "file_extension": ".py",
   "mimetype": "text/x-python",
   "name": "python",
   "nbconvert_exporter": "python",
   "pygments_lexer": "ipython2",
   "version": "2.7.6"
  }
 },
 "nbformat": 4,
 "nbformat_minor": 5
}
