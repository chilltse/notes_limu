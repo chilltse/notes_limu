{
 "cells": [
  {
   "metadata": {},
   "cell_type": "markdown",
   "source": "![auto_calculus](asset\\auto_calculus.png)",
   "id": "59387fed9d45e978"
  },
  {
   "metadata": {
    "collapsed": true,
    "ExecuteTime": {
     "end_time": "2025-04-16T00:43:35.640516Z",
     "start_time": "2025-04-16T00:43:35.636392Z"
    }
   },
   "cell_type": "code",
   "source": [
    "import torch\n",
    "x = torch.tensor([1,2,3,4],dtype=torch.float32)\n",
    "x.requires_grad_(True)\n",
    "# 默认值是None\n",
    "x.grad"
   ],
   "id": "initial_id",
   "outputs": [],
   "execution_count": 2
  },
  {
   "metadata": {
    "ExecuteTime": {
     "end_time": "2025-04-16T01:00:37.612739Z",
     "start_time": "2025-04-16T01:00:37.606781Z"
    }
   },
   "cell_type": "code",
   "source": [
    "y = 2 * torch.dot(x,x)\n",
    "# 求导\n",
    "y.backward()\n",
    "# 打印y对x的导数\n",
    "print(x.grad)\n",
    "# 验证正确性\n",
    "x.grad == 4 * x\n",
    "\n",
    "# 默认情况下pytorch会累计梯度，需要清除之前的值\n",
    "x.grad.zero_()"
   ],
   "id": "6504a729c657199a",
   "outputs": [
    {
     "name": "stdout",
     "output_type": "stream",
     "text": [
      "tensor([ 4.,  8., 12., 16.])\n"
     ]
    },
    {
     "data": {
      "text/plain": [
       "tensor([0., 0., 0., 0.])"
      ]
     },
     "execution_count": 5,
     "metadata": {},
     "output_type": "execute_result"
    }
   ],
   "execution_count": 5
  },
  {
   "metadata": {
    "ExecuteTime": {
     "end_time": "2025-02-21T01:50:36.557088Z",
     "start_time": "2025-02-21T01:50:36.554087Z"
    }
   },
   "cell_type": "code",
   "source": [
    "# 可以将某些计算移到计算图之外\n",
    "# x.grad.zero_()\n",
    "y = x * x\n",
    "u = y.detach()\n",
    "z = u * x\n",
    "z.sum().backward()\n",
    "print(x.grad == u)"
   ],
   "id": "1894d1b717053ad4",
   "outputs": [
    {
     "name": "stdout",
     "output_type": "stream",
     "text": [
      "tensor([True, True, True, True])\n"
     ]
    }
   ],
   "execution_count": 35
  },
  {
   "metadata": {
    "ExecuteTime": {
     "end_time": "2025-02-21T01:51:39.818139Z",
     "start_time": "2025-02-21T01:51:39.813732Z"
    }
   },
   "cell_type": "code",
   "source": [
    "x.grad.zero_()\n",
    "# 当你调用 .backward() 时，PyTorch 要从一个最终标量开始（比如 loss），然后往前把梯度一层一层传播回去，这就是“标量链式”的运作方式。\n",
    "y.sum().backward()\n",
    "print(x.grad == 2*x)"
   ],
   "id": "5e3fdd459632071e",
   "outputs": [
    {
     "name": "stdout",
     "output_type": "stream",
     "text": [
      "tensor([True, True, True, True])\n"
     ]
    }
   ],
   "execution_count": 37
  },
  {
   "metadata": {
    "ExecuteTime": {
     "end_time": "2025-02-21T01:56:55.693945Z",
     "start_time": "2025-02-21T01:56:55.688953Z"
    }
   },
   "cell_type": "code",
   "source": [
    "def f(a):\n",
    "    b = a * 2\n",
    "    while b.norm() < 1000:\n",
    "        b = b * 2\n",
    "    if b.sum() > 0:\n",
    "        c = b\n",
    "    else:\n",
    "        c = 100 * b\n",
    "    return c\n",
    "\n",
    "# 🔹 torch.randn(size=())\n",
    "# 表示创建一个从标准正态分布（均值为 0，标准差为 1）中随机采样的标量张量（scalar tensor）。\n",
    "#\n",
    "# size=() 就是空的 tuple，代表这是一个 0 维张量（即标量）\n",
    "#\n",
    "# 它的值是类似 tensor(0.2435) 这样的一个数\n",
    "#\n",
    "# 🔹 requires_grad=True\n",
    "# 告诉 PyTorch：\n",
    "#\n",
    "# “我要对这个变量 a 开启梯度追踪（track gradient）。”\n",
    "#\n",
    "# 以后你调用 .backward() 时，PyTorch 就会自动计算这个标量 a 对 loss 的导数，保存在 a.grad 中。\n",
    "a = torch.randn(size=(), requires_grad=True)\n",
    "d = f(a)\n",
    "d.backward()\n",
    "a.grad"
   ],
   "id": "4a4569ef07956255",
   "outputs": [
    {
     "data": {
      "text/plain": [
       "tensor(4096.)"
      ]
     },
     "execution_count": 41,
     "metadata": {},
     "output_type": "execute_result"
    }
   ],
   "execution_count": 41
  },
  {
   "metadata": {},
   "cell_type": "markdown",
   "source": [
    "- 精度下降避免不断测量的最大背景的潜在累积误差\n",
    "- 小批量随机梯度下降是深度学习训练中的关键算法\n",
    "- 随机重采样的重要性比量大小和学习率"
   ],
   "id": "bda6fd48ea2c833e"
  },
  {
   "metadata": {},
   "cell_type": "code",
   "outputs": [],
   "execution_count": null,
   "source": "",
   "id": "3a7959a69a5ec594"
  }
 ],
 "metadata": {
  "kernelspec": {
   "display_name": "Python 3",
   "language": "python",
   "name": "python3"
  },
  "language_info": {
   "codemirror_mode": {
    "name": "ipython",
    "version": 2
   },
   "file_extension": ".py",
   "mimetype": "text/x-python",
   "name": "python",
   "nbconvert_exporter": "python",
   "pygments_lexer": "ipython2",
   "version": "2.7.6"
  }
 },
 "nbformat": 4,
 "nbformat_minor": 5
}
