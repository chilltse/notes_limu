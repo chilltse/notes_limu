{
 "cells": [
  {
   "cell_type": "code",
   "id": "initial_id",
   "metadata": {
    "collapsed": true,
    "ExecuteTime": {
     "end_time": "2025-04-16T04:16:29.905184Z",
     "start_time": "2025-04-16T04:16:27.086841Z"
    }
   },
   "source": [
    "import torch\n",
    "\n",
    "# 检查 CUDA 是否可用\n",
    "print(\"CUDA Available:\", torch.cuda.is_available())\n",
    "\n",
    "# 显示可用 GPU 数量\n",
    "print(\"Number of GPUs:\", torch.cuda.device_count())\n",
    "\n",
    "# 显示每个 GPU 的名称\n",
    "for i in range(torch.cuda.device_count()):\n",
    "    print(f\"GPU {i}: {torch.cuda.get_device_name(i)}\")\n"
   ],
   "outputs": [
    {
     "name": "stdout",
     "output_type": "stream",
     "text": [
      "CUDA Available: True\n",
      "Number of GPUs: 1\n",
      "GPU 0: NVIDIA GeForce RTX 4090 Laptop GPU\n"
     ]
    }
   ],
   "execution_count": 1
  },
  {
   "metadata": {},
   "cell_type": "markdown",
   "source": [
    "查看conda虚拟环境\n",
    "`conda env list`\n",
    "\n",
    "切换虚拟环境\n",
    "`conda deactivate old_env`\n",
    "`conda activate new_env`\n",
    "\n",
    "删除虚拟环境：\n",
    "`conda remove --name env_name --all`"
   ],
   "id": "2f7998428555eb3f"
  }
 ],
 "metadata": {
  "kernelspec": {
   "display_name": "Python 3",
   "language": "python",
   "name": "python3"
  },
  "language_info": {
   "codemirror_mode": {
    "name": "ipython",
    "version": 2
   },
   "file_extension": ".py",
   "mimetype": "text/x-python",
   "name": "python",
   "nbconvert_exporter": "python",
   "pygments_lexer": "ipython2",
   "version": "2.7.6"
  }
 },
 "nbformat": 4,
 "nbformat_minor": 5
}
