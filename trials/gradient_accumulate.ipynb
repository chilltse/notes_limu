{
 "cells": [
  {
   "cell_type": "code",
   "id": "initial_id",
   "metadata": {
    "collapsed": true,
    "ExecuteTime": {
     "end_time": "2025-04-16T00:51:05.380554Z",
     "start_time": "2025-04-16T00:51:01.347818Z"
    }
   },
   "source": [
    "# 默认情况下torch会累积梯度\n",
    "import torch\n",
    "\n",
    "# 初始化参数 w\n",
    "w = torch.tensor([2.0], requires_grad=True)\n",
    "\n",
    "# 输入和目标\n",
    "x = torch.tensor([1.0])\n",
    "y_true = torch.tensor([4.0])\n",
    "\n",
    "# 优化器\n",
    "optimizer = torch.optim.SGD([w], lr=0.1)\n",
    "\n",
    "# 第一次前向传播 + 反向传播\n",
    "y_pred = w * x\n",
    "loss = (y_pred - y_true) ** 2\n",
    "loss.backward()\n",
    "print(\"After first backward, w.grad =\", w.grad)\n",
    "\n",
    "# 不清零，直接再来一次\n",
    "y_pred = w * x\n",
    "loss = (y_pred - y_true) ** 2\n",
    "loss.backward()\n",
    "# 第二次再执行一次 没有清零，又加了 -4，所以变成了 -8\n",
    "print(\"After second backward, w.grad =\", w.grad)\n"
   ],
   "outputs": [
    {
     "name": "stdout",
     "output_type": "stream",
     "text": [
      "After first backward, w.grad = tensor([-4.])\n",
      "After second backward, w.grad = tensor([-8.])\n"
     ]
    }
   ],
   "execution_count": 1
  },
  {
   "metadata": {
    "ExecuteTime": {
     "end_time": "2025-04-16T00:59:16.903232Z",
     "start_time": "2025-04-16T00:59:16.887524Z"
    }
   },
   "cell_type": "code",
   "source": [
    "import torch\n",
    "\n",
    "# 初始化参数 w\n",
    "w = torch.tensor([2.0], requires_grad=True)\n",
    "\n",
    "# 输入和目标\n",
    "x = torch.tensor([1.0])\n",
    "y_true = torch.tensor([4.0])\n",
    "\n",
    "# 优化器\n",
    "optimizer = torch.optim.SGD([w], lr=0.1)\n",
    "\n",
    "# 训练 step 1\n",
    "optimizer.zero_grad()              # 1️⃣ 清空旧的梯度\n",
    "y_pred = w * x                     # 2️⃣ 前向传播\n",
    "loss = (y_pred - y_true) ** 2      # 3️⃣ 计算损失\n",
    "loss.backward()                    # 4️⃣ 反向传播，计算梯度\n",
    "print(\"Step 1 - w.grad:\", w.grad) # 输出当前梯度\n",
    "optimizer.step()                   # 5️⃣ 用梯度更新参数\n",
    "\n",
    "# 训练 step 2（再次训练）\n",
    "optimizer.zero_grad()              # 再次清零，防止累积\n",
    "y_pred = w * x\n",
    "loss = (y_pred - y_true) ** 2\n",
    "loss.backward()\n",
    "print(\"Step 2 - w.grad:\", w.grad)\n",
    "optimizer.step()\n"
   ],
   "id": "b34b8efc74480ad9",
   "outputs": [
    {
     "name": "stdout",
     "output_type": "stream",
     "text": [
      "Step 1 - w.grad: tensor([-4.])\n",
      "Step 2 - w.grad: tensor([-3.2000])\n"
     ]
    }
   ],
   "execution_count": 3
  },
  {
   "metadata": {},
   "cell_type": "code",
   "outputs": [],
   "execution_count": null,
   "source": [
    "# *表示参数解包把一个“元组或列表”拆成单独的位置参数传进去\n",
    "def f(a, b):\n",
    "    print(a, b)\n",
    "\n",
    "pair = (1, 2)\n",
    "\n",
    "f(*pair)   # 等价于 f(1, 2)\n",
    "\n"
   ],
   "id": "f9438f331176a01"
  },
  {
   "metadata": {},
   "cell_type": "code",
   "outputs": [],
   "execution_count": null,
   "source": [
    "y = torch.tensor([0, 2])\n",
    "y_hat = torch.tensor([[0.1, 0.3, 0.6],\n",
    "                      [0.3, 0.2, 0.5]])\n",
    "y_hat[[0, 1], y]\n",
    "\n",
    "# 等价于：\n",
    "# [\n",
    "#   y_hat[0, y[0]],  # = y_hat[0, 0] = 0.1\n",
    "#   y_hat[1, y[1]]   # = y_hat[1, 2] = 0.5\n",
    "# ]\n",
    "# 最终结果：\n",
    "# tensor([0.1, 0.5])"
   ],
   "id": "c4be1e80699a28ab"
  },
  {
   "metadata": {},
   "cell_type": "code",
   "outputs": [],
   "execution_count": null,
   "source": "",
   "id": "378bee6964568daf"
  }
 ],
 "metadata": {
  "kernelspec": {
   "display_name": "Python 3",
   "language": "python",
   "name": "python3"
  },
  "language_info": {
   "codemirror_mode": {
    "name": "ipython",
    "version": 2
   },
   "file_extension": ".py",
   "mimetype": "text/x-python",
   "name": "python",
   "nbconvert_exporter": "python",
   "pygments_lexer": "ipython2",
   "version": "2.7.6"
  }
 },
 "nbformat": 4,
 "nbformat_minor": 5
}
