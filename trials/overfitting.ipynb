{
 "cells": [
  {
   "metadata": {},
   "cell_type": "markdown",
   "source": [
    "使用以下三阶多项式来生成训练和测试数据的标签：\n",
    "\n",
    "$$\n",
    "y = 5 + 1.2x - \\frac{3.4x^2}{2!} + \\frac{5.6x^3}{3!} + \\varepsilon, \\quad \\varepsilon \\sim \\mathcal{N}(0, 0.1^2)\n",
    "$$\n"
   ],
   "id": "fd0af4db0547b052"
  },
  {
   "metadata": {
    "ExecuteTime": {
     "end_time": "2025-04-17T13:21:39.727807Z",
     "start_time": "2025-04-17T13:21:39.665354Z"
    }
   },
   "cell_type": "code",
   "source": [
    "import numpy as np\n",
    "import math\n",
    "\n",
    "# 关于np.power的演示例子\n",
    "import numpy as np\n",
    "\n",
    "features = np.array([[2.0], [3.0], [4.0]])  # 3 个样本，每个是 1 个数\n",
    "max_degree = 5\n",
    "\n",
    "# 构造幂次 [0, 1, 2, 3, 4]\n",
    "powers = np.arange(max_degree).reshape(1, -1)\n",
    "\n",
    "# 计算多项式特征矩阵\n",
    "poly_features = np.power(features, powers)\n",
    "\n",
    "# [[ 1.  2.  4.   8.   16. ]   ← 2 的 [0, 1, 2, 3, 4] 次幂\n",
    "#  [ 1.  3.  9.  27.   81. ]   ← 3 的幂\n",
    "#  [ 1.  4. 16.  64.  256. ]]  ← 4 的幂\n",
    "print(poly_features)\n"
   ],
   "id": "45b107341167a40d",
   "outputs": [
    {
     "name": "stdout",
     "output_type": "stream",
     "text": [
      "[[  1.   2.   4.   8.  16.]\n",
      " [  1.   3.   9.  27.  81.]\n",
      " [  1.   4.  16.  64. 256.]]\n"
     ]
    }
   ],
   "execution_count": 1
  },
  {
   "metadata": {
    "collapsed": true,
    "ExecuteTime": {
     "end_time": "2025-04-17T13:31:02.814708Z",
     "start_time": "2025-04-17T13:31:02.810049Z"
    }
   },
   "cell_type": "code",
   "source": [
    "import numpy as np\n",
    "import math\n",
    "\n",
    "max_degree = 20\n",
    "n_train, n_test = 100, 100\n",
    "\n",
    "# 创建一个全 0 的权重向量，并设置前 4 项为真实多项式系数\n",
    "true_w = np.zeros(max_degree)\n",
    "true_w[0:4] = np.array([5, 1.2, -3.4, 5.6])  # 表示三阶多项式的真实系数\n",
    "\n",
    "# 从标准正态分布中采样输入特征\n",
    "features = np.random.normal(size=(n_train + n_test, 1))\n",
    "np.random.shuffle(features)\n",
    "\n",
    "# 构建多项式特征矩阵\n",
    "poly_features = np.power(features, np.arange(max_degree).reshape(1, -1))\n",
    "\n",
    "# 将每一项除以阶乘：x^i / i!\n",
    "for i in range(max_degree):\n",
    "    poly_features[:, i] /= math.gamma(i + 1)  # gamma(n+1) = n!\n",
    "\n",
    "# 根据多项式模型计算标签（y = Xw）\n",
    "# labels = np.dot(poly_features, true_w)\n",
    "labels = poly_features@true_w\n",
    "\n",
    "print(labels.shape)\n",
    "\n",
    "# 加上高斯噪声 ε ~ N(0, 0.1^2)\n",
    "labels += np.random.normal(scale=0.1, size=labels.shape)\n"
   ],
   "id": "initial_id",
   "outputs": [
    {
     "name": "stdout",
     "output_type": "stream",
     "text": [
      "(200,)\n"
     ]
    }
   ],
   "execution_count": 4
  },
  {
   "metadata": {
    "ExecuteTime": {
     "end_time": "2025-04-17T14:17:41.725494Z",
     "start_time": "2025-04-17T14:17:36.479145Z"
    }
   },
   "cell_type": "code",
   "source": [
    "import torch\n",
    "\n",
    "# 把数据从np转换成tensor\n",
    "true_w, features, poly_features, labels = [\n",
    "    torch.tensor(x, dtype=torch.float32)\n",
    "    for x in [true_w, features, poly_features, labels]\n",
    "]\n",
    "\n",
    "# 查看前两个样本的原始特征、多项式特征 和 标签\n",
    "features[:2], poly_features[:2, :], labels[:2]\n"
   ],
   "id": "6aa8c02b921c73b8",
   "outputs": [
    {
     "data": {
      "text/plain": [
       "(tensor([[ 0.1236],\n",
       "         [-0.7818]]),\n",
       " tensor([[ 1.0000e+00,  1.2363e-01,  7.6427e-03,  3.1497e-04,  9.7351e-06,\n",
       "           2.4072e-07,  4.9602e-09,  8.7607e-11,  1.3539e-12,  1.8599e-14,\n",
       "           2.2994e-16,  2.5844e-18,  2.6627e-20,  2.5323e-22,  2.2363e-24,\n",
       "           1.8432e-26,  1.4243e-28,  1.0358e-30,  7.1146e-33,  4.6295e-35],\n",
       "         [ 1.0000e+00, -7.8184e-01,  3.0564e-01, -7.9654e-02,  1.5569e-02,\n",
       "          -2.4345e-03,  3.1724e-04, -3.5433e-05,  3.4629e-06, -3.0083e-07,\n",
       "           2.3520e-08, -1.6717e-09,  1.0892e-10, -6.5505e-12,  3.6582e-13,\n",
       "          -1.9068e-14,  9.3175e-16, -4.2852e-17,  1.8613e-18, -7.6592e-20]]),\n",
       " tensor([5.0737, 2.5503]))"
      ]
     },
     "execution_count": 5,
     "metadata": {},
     "output_type": "execute_result"
    }
   ],
   "execution_count": 5
  },
  {
   "metadata": {
    "ExecuteTime": {
     "end_time": "2025-04-17T14:39:20.874064Z",
     "start_time": "2025-04-17T14:39:20.870369Z"
    }
   },
   "cell_type": "code",
   "source": [
    "from ml_utils import Accumulator\n",
    "\n",
    "def evaluate_loss(net, data_iter, loss):\n",
    "    \"\"\"评估给定数据集上模型的损失。\"\"\"\n",
    "    metric = Accumulator(2)  # [累计的 loss 总和, 样本总数]\n",
    "\n",
    "    for X, y in data_iter:\n",
    "        out = net(X)                          # 预测值\n",
    "        y = y.reshape(out.shape)              # 调整 y 的形状与 out 匹配\n",
    "        l = loss(out, y)                      # 计算损失张量（每个样本都有一个）\n",
    "\n",
    "        metric.add(l.sum(), l.numel())        # 累加总损失 和 样本数\n",
    "\n",
    "    return metric[0] / metric[1]              # 返回平均损失\n"
   ],
   "id": "558e3a5220b339c1",
   "outputs": [],
   "execution_count": 11
  },
  {
   "metadata": {
    "ExecuteTime": {
     "end_time": "2025-04-17T14:49:07.267551Z",
     "start_time": "2025-04-17T14:49:05.106427Z"
    }
   },
   "cell_type": "code",
   "source": [
    "from torch import nn\n",
    "from torch.utils import data\n",
    "from ml_utils import train_epoch_ch3\n",
    "# from ml_utils import load_array\n",
    "def load_array(data_arrays, batch_size, is_train=True):\n",
    "    \"\"\"构造一个 PyTorch 数据迭代器\"\"\"\n",
    "    dataset = data.TensorDataset(*data_arrays)\n",
    "    return data.DataLoader(dataset, batch_size, shuffle=is_train)\n",
    "\n",
    "\n",
    "\n",
    "def train(train_features, test_features, train_labels, test_labels, num_epochs=400):\n",
    "    loss = nn.MSELoss()\n",
    "    input_shape = train_features.shape[-1]\n",
    "\n",
    "    net = nn.Sequential(nn.Linear(input_shape, 1, bias=False))\n",
    "\n",
    "    batch_size = min(10, train_labels.shape[0])\n",
    "    train_iter = load_array((train_features, train_labels.reshape(-1, 1)), batch_size)\n",
    "    test_iter = load_array((test_features, test_labels.reshape(-1, 1)), batch_size, is_train=False)\n",
    "\n",
    "    trainer = torch.optim.SGD(net.parameters(), lr=0.01)\n",
    "\n",
    "    for epoch in range(num_epochs):\n",
    "        train_epoch_ch3(net, train_iter, loss, trainer)\n",
    "\n",
    "    print('weight:', net[0].weight.data.numpy())\n",
    "\n",
    "# 最终得到的值和真实值很接近\n",
    "train(\n",
    "    poly_features[:n_train, :4],     # 训练集输入（前 n_train 条，每条取前 4 个特征）\n",
    "    poly_features[n_train:, :4],     # 测试集输入（剩下的样本，同样取前 4 个特征）\n",
    "    labels[:n_train],                # 训练集标签\n",
    "    labels[n_train:]                 # 测试集标签\n",
    ")\n",
    "\n",
    "# 欠拟合，多项式给的不够\n",
    "train(\n",
    "    poly_features[:n_train, :2],     # 训练集输入（前 n_train 条，每条取前 4 个特征）\n",
    "    poly_features[n_train:, :2],     # 测试集输入（剩下的样本，同样取前 4 个特征）\n",
    "    labels[:n_train],                # 训练集标签\n",
    "    labels[n_train:]                 # 测试集标签\n",
    ")\n",
    "\n",
    "# 过拟合\n",
    "train(\n",
    "    poly_features[:n_train, :],     # 训练集输入（前 n_train 条，每条取前 4 个特征）\n",
    "    poly_features[n_train:, :],     # 测试集输入（剩下的样本，同样取前 4 个特征）\n",
    "    labels[:n_train],                # 训练集标签\n",
    "    labels[n_train:]                 # 测试集标签\n",
    ")\n",
    "\n"
   ],
   "id": "f30d6be1aa660467",
   "outputs": [
    {
     "name": "stdout",
     "output_type": "stream",
     "text": [
      "weight: [[ 4.9872956  1.2175598 -3.3753257  5.506545 ]]\n",
      "weight: [[3.839045 2.760343]]\n",
      "weight: [[ 5.0011163   1.2955995  -3.4031477   5.0004973  -0.05983304  1.5254266\n",
      "  -0.02215476  0.2144047  -0.09985335 -0.03857401 -0.21245414  0.16638386\n",
      "  -0.07887    -0.22338955 -0.12070329  0.16347791 -0.02492041  0.03927466\n",
      "   0.21709704  0.1377159 ]]\n"
     ]
    }
   ],
   "execution_count": 16
  }
 ],
 "metadata": {
  "kernelspec": {
   "display_name": "Python 3",
   "language": "python",
   "name": "python3"
  },
  "language_info": {
   "codemirror_mode": {
    "name": "ipython",
    "version": 2
   },
   "file_extension": ".py",
   "mimetype": "text/x-python",
   "name": "python",
   "nbconvert_exporter": "python",
   "pygments_lexer": "ipython2",
   "version": "2.7.6"
  }
 },
 "nbformat": 4,
 "nbformat_minor": 5
}
