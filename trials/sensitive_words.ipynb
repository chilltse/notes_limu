{
 "cells": [
  {
   "cell_type": "code",
   "id": "initial_id",
   "metadata": {
    "collapsed": true,
    "ExecuteTime": {
     "end_time": "2025-07-24T04:28:12.984313Z",
     "start_time": "2025-07-24T04:28:10.522348Z"
    }
   },
   "source": [
    "import pandas as pd\n",
    "\n",
    "df = pd.read_stata(r\"C:\\Users\\chill\\Downloads\\all.dta\")\n",
    "# 尝试对乱码列重新编码\n",
    "def fix_encoding(s):\n",
    "    if isinstance(s, str):\n",
    "        try:\n",
    "            return s.encode('latin1').decode('gbk')  # 或 'gb18030'\n",
    "        except:\n",
    "            return s\n",
    "    return s\n",
    "\n",
    "# 假设乱码出现在 'keyword' 列\n",
    "df['keyword'] = df['keyword'].apply(fix_encoding)\n",
    "\n",
    "# 显示前几行\n",
    "print(df[['keyword']])"
   ],
   "outputs": [
    {
     "name": "stdout",
     "output_type": "stream",
     "text": [
      "                 keyword\n",
      "0                      !\n",
      "1      \"\"薄熙来倒了，下一个是周永康\"\"\n",
      "2           \"\"周永康兵变和警变\"\"\n",
      "3                \"銀行卡復制器\n",
      "4                  #8964\n",
      "...                  ...\n",
      "12852                龍俊亨\n",
      "12853         龍飛鳳舞 (電視劇)\n",
      "12854                  龜\n",
      "12855                 龜部\n",
      "12856                 龜頭\n",
      "\n",
      "[12857 rows x 1 columns]\n"
     ]
    }
   ],
   "execution_count": 1
  },
  {
   "metadata": {
    "ExecuteTime": {
     "end_time": "2025-07-24T04:33:56.638263Z",
     "start_time": "2025-07-24T04:32:50.395896Z"
    }
   },
   "cell_type": "code",
   "source": [
    "import turtle as t\n",
    "\n",
    "# 画头部轮廓\n",
    "def draw_head():\n",
    "    t.penup()\n",
    "    t.goto(0, -150)\n",
    "    t.pendown()\n",
    "    t.begin_fill()\n",
    "    t.color(\"#00A0DE\")\n",
    "    t.circle(150)\n",
    "    t.end_fill()\n",
    "\n",
    "# 画白脸\n",
    "def draw_face():\n",
    "    t.penup()\n",
    "    t.goto(0, -100)\n",
    "    t.setheading(0)\n",
    "    t.color(\"white\")\n",
    "    t.begin_fill()\n",
    "    t.circle(100)\n",
    "    t.end_fill()\n",
    "\n",
    "# 画眼睛\n",
    "def draw_eyes():\n",
    "    t.penup()\n",
    "    t.goto(-40, 50)\n",
    "    t.setheading(0)\n",
    "    t.begin_fill()\n",
    "    t.color(\"white\")\n",
    "    t.circle(20)\n",
    "    t.end_fill()\n",
    "\n",
    "    t.penup()\n",
    "    t.goto(40, 50)\n",
    "    t.setheading(0)\n",
    "    t.begin_fill()\n",
    "    t.color(\"white\")\n",
    "    t.circle(20)\n",
    "    t.end_fill()\n",
    "\n",
    "    # 黑眼珠\n",
    "    t.penup()\n",
    "    t.goto(-40, 60)\n",
    "    t.dot(10, \"black\")\n",
    "    t.goto(40, 60)\n",
    "    t.dot(10, \"black\")\n",
    "\n",
    "# 鼻子\n",
    "def draw_nose():\n",
    "    t.penup()\n",
    "    t.goto(0, 35)\n",
    "    t.dot(20, \"red\")\n",
    "\n",
    "# 嘴巴\n",
    "def draw_mouth():\n",
    "    t.penup()\n",
    "    t.goto(0, 25)\n",
    "    t.setheading(-90)\n",
    "    t.pendown()\n",
    "    t.circle(40, 180)\n",
    "\n",
    "# 胡须\n",
    "def draw_whiskers():\n",
    "    positions = [(-60, 40, -120, 40), (-60, 20, -120, 0), (-60, 0, -120, -20),\n",
    "                 (60, 40, 120, 40), (60, 20, 120, 0), (60, 0, 120, -20)]\n",
    "    t.color(\"black\")\n",
    "    for x1, y1, x2, y2 in positions:\n",
    "        t.penup()\n",
    "        t.goto(x1, y1)\n",
    "        t.pendown()\n",
    "        t.goto(x2, y2)\n",
    "\n",
    "# 画铃铛\n",
    "def draw_bell():\n",
    "    t.penup()\n",
    "    t.goto(0, -130)\n",
    "    t.setheading(0)\n",
    "    t.begin_fill()\n",
    "    t.color(\"yellow\")\n",
    "    t.circle(20)\n",
    "    t.end_fill()\n",
    "    t.goto(0, -130)\n",
    "    t.dot(8, \"black\")\n",
    "\n",
    "# 主函数\n",
    "def draw_doraemon():\n",
    "    t.speed(8)\n",
    "    draw_head()\n",
    "    draw_face()\n",
    "    draw_eyes()\n",
    "    draw_nose()\n",
    "    draw_mouth()\n",
    "    draw_whiskers()\n",
    "    draw_bell()\n",
    "    t.hideturtle()\n",
    "    t.done()\n",
    "\n",
    "draw_doraemon()\n"
   ],
   "id": "c03667db4469f9b5",
   "outputs": [
    {
     "ename": "KeyboardInterrupt",
     "evalue": "",
     "output_type": "error",
     "traceback": [
      "\u001B[1;31m---------------------------------------------------------------------------\u001B[0m",
      "\u001B[1;31mKeyboardInterrupt\u001B[0m                         Traceback (most recent call last)",
      "Cell \u001B[1;32mIn[2], line 98\u001B[0m\n\u001B[0;32m     95\u001B[0m     t\u001B[38;5;241m.\u001B[39mhideturtle()\n\u001B[0;32m     96\u001B[0m     t\u001B[38;5;241m.\u001B[39mdone()\n\u001B[1;32m---> 98\u001B[0m draw_doraemon()\n",
      "Cell \u001B[1;32mIn[2], line 96\u001B[0m, in \u001B[0;36mdraw_doraemon\u001B[1;34m()\u001B[0m\n\u001B[0;32m     94\u001B[0m draw_bell()\n\u001B[0;32m     95\u001B[0m t\u001B[38;5;241m.\u001B[39mhideturtle()\n\u001B[1;32m---> 96\u001B[0m t\u001B[38;5;241m.\u001B[39mdone()\n",
      "File \u001B[1;32m<string>:8\u001B[0m, in \u001B[0;36mmainloop\u001B[1;34m()\u001B[0m\n",
      "File \u001B[1;32m~\\.conda\\envs\\deep_learning\\Lib\\turtle.py:803\u001B[0m, in \u001B[0;36mTurtleScreenBase.mainloop\u001B[1;34m(self)\u001B[0m\n\u001B[0;32m    790\u001B[0m \u001B[38;5;28;01mdef\u001B[39;00m \u001B[38;5;21mmainloop\u001B[39m(\u001B[38;5;28mself\u001B[39m):\n\u001B[0;32m    791\u001B[0m \u001B[38;5;250m    \u001B[39m\u001B[38;5;124;03m\"\"\"Starts event loop - calling Tkinter's mainloop function.\u001B[39;00m\n\u001B[0;32m    792\u001B[0m \n\u001B[0;32m    793\u001B[0m \u001B[38;5;124;03m    No argument.\u001B[39;00m\n\u001B[1;32m   (...)\u001B[0m\n\u001B[0;32m    801\u001B[0m \n\u001B[0;32m    802\u001B[0m \u001B[38;5;124;03m    \"\"\"\u001B[39;00m\n\u001B[1;32m--> 803\u001B[0m     \u001B[38;5;28mself\u001B[39m\u001B[38;5;241m.\u001B[39mcv\u001B[38;5;241m.\u001B[39mtk\u001B[38;5;241m.\u001B[39mmainloop()\n",
      "\u001B[1;31mKeyboardInterrupt\u001B[0m: "
     ]
    }
   ],
   "execution_count": 2
  }
 ],
 "metadata": {
  "kernelspec": {
   "display_name": "Python 3",
   "language": "python",
   "name": "python3"
  },
  "language_info": {
   "codemirror_mode": {
    "name": "ipython",
    "version": 2
   },
   "file_extension": ".py",
   "mimetype": "text/x-python",
   "name": "python",
   "nbconvert_exporter": "python",
   "pygments_lexer": "ipython2",
   "version": "2.7.6"
  }
 },
 "nbformat": 4,
 "nbformat_minor": 5
}
