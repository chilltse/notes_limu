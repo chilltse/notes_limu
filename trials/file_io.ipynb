{
 "cells": [
  {
   "cell_type": "code",
   "id": "initial_id",
   "metadata": {
    "collapsed": true,
    "ExecuteTime": {
     "end_time": "2025-04-18T08:12:56.350786Z",
     "start_time": "2025-04-18T08:12:55.117869Z"
    }
   },
   "source": [
    "import torch\n",
    "from torch import nn\n",
    "from torch.nn import functional as F\n",
    "\n",
    "# 创建一个张量\n",
    "x = torch.arange(4)  # tensor([0, 1, 2, 3])\n",
    "\n",
    "# 保存张量到文件 'x-file'\n",
    "torch.save(x, 'x-file')\n",
    "\n",
    "# 从文件中加载张量\n",
    "x2 = torch.load(\"x-file\")\n",
    "\n",
    "# 查看加载结果\n",
    "print(x2)\n"
   ],
   "outputs": [
    {
     "name": "stdout",
     "output_type": "stream",
     "text": [
      "tensor([0, 1, 2, 3])\n"
     ]
    }
   ],
   "execution_count": 1
  },
  {
   "metadata": {
    "ExecuteTime": {
     "end_time": "2025-04-18T08:16:04.366396Z",
     "start_time": "2025-04-18T08:16:04.361172Z"
    }
   },
   "cell_type": "code",
   "source": [
    "# 存字典\n",
    "my_dict  = {'x': x, 'y': torch.zeros(4)}\n",
    "torch.save(my_dict, 'my_dict-file')\n",
    "my_dict2 = torch.load(\"my_dict-file\")\n",
    "print(my_dict2)"
   ],
   "id": "fb4d2085e7e5a8c8",
   "outputs": [
    {
     "name": "stdout",
     "output_type": "stream",
     "text": [
      "{'x': tensor([0, 1, 2, 3]), 'y': tensor([0., 0., 0., 0.])}\n"
     ]
    }
   ],
   "execution_count": 2
  },
  {
   "metadata": {
    "ExecuteTime": {
     "end_time": "2025-04-18T08:20:03.829714Z",
     "start_time": "2025-04-18T08:20:03.825036Z"
    }
   },
   "cell_type": "code",
   "source": [
    "# 存储模型参数\n",
    "import torch\n",
    "import torch.nn.functional as F\n",
    "from torch import nn\n",
    "\n",
    "# 定义一个 MLP 模型：20 → 256 → ReLU → 10\n",
    "class MLP(nn.Module):\n",
    "    def __init__(self):\n",
    "        super().__init__()\n",
    "        self.hidden = nn.Linear(20, 256)     # 隐藏层：输入20维 → 输出256维\n",
    "        self.output = nn.Linear(256, 10)     # 输出层：输入256维 → 输出10维（比如用于分类）\n",
    "\n",
    "    def forward(self, x):\n",
    "        return self.output(F.relu(self.hidden(x)))  # 前向传播：先隐藏层+ReLU，再输出层\n",
    "\n",
    "# 实例化模型\n",
    "net = MLP()\n",
    "\n",
    "# 构造一个 batch 大小为 2、特征维度为 20 的输入张量\n",
    "X = torch.randn(size=(2, 20))\n",
    "\n",
    "# 前向传播\n",
    "Y = net(X)\n",
    "print(Y.shape)  # 输出 shape 应该为 (2, 10)\n",
    "\n",
    "\n",
    "torch.save(net.state_dict(), 'mlp.params')"
   ],
   "id": "7a0a1ffb80ad1f62",
   "outputs": [
    {
     "name": "stdout",
     "output_type": "stream",
     "text": [
      "torch.Size([2, 10])\n"
     ]
    }
   ],
   "execution_count": 5
  },
  {
   "metadata": {
    "ExecuteTime": {
     "end_time": "2025-04-18T08:20:05.535016Z",
     "start_time": "2025-04-18T08:20:05.529148Z"
    }
   },
   "cell_type": "code",
   "source": [
    "# 复现模型\n",
    "clone = MLP()\n",
    "clone.load_state_dict(torch.load('mlp.params'))\n",
    "clone.eval()"
   ],
   "id": "3ba0e0d88267779f",
   "outputs": [
    {
     "data": {
      "text/plain": [
       "MLP(\n",
       "  (hidden): Linear(in_features=20, out_features=256, bias=True)\n",
       "  (output): Linear(in_features=256, out_features=10, bias=True)\n",
       ")"
      ]
     },
     "execution_count": 6,
     "metadata": {},
     "output_type": "execute_result"
    }
   ],
   "execution_count": 6
  },
  {
   "metadata": {
    "ExecuteTime": {
     "end_time": "2025-04-18T08:21:52.390483Z",
     "start_time": "2025-04-18T08:21:52.383789Z"
    }
   },
   "cell_type": "code",
   "source": [
    "Y_clone = clone(X)\n",
    "Y_clone == Y"
   ],
   "id": "5711d42be7118087",
   "outputs": [
    {
     "data": {
      "text/plain": [
       "tensor([[True, True, True, True, True, True, True, True, True, True],\n",
       "        [True, True, True, True, True, True, True, True, True, True]])"
      ]
     },
     "execution_count": 7,
     "metadata": {},
     "output_type": "execute_result"
    }
   ],
   "execution_count": 7
  }
 ],
 "metadata": {
  "kernelspec": {
   "display_name": "Python 3",
   "language": "python",
   "name": "python3"
  },
  "language_info": {
   "codemirror_mode": {
    "name": "ipython",
    "version": 2
   },
   "file_extension": ".py",
   "mimetype": "text/x-python",
   "name": "python",
   "nbconvert_exporter": "python",
   "pygments_lexer": "ipython2",
   "version": "2.7.6"
  }
 },
 "nbformat": 4,
 "nbformat_minor": 5
}
